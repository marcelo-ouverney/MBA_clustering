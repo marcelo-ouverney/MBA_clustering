{
 "cells": [
  {
   "cell_type": "markdown",
   "metadata": {},
   "source": [
    "### Import dos Pacotes"
   ]
  },
  {
   "cell_type": "code",
   "execution_count": 1,
   "metadata": {},
   "outputs": [],
   "source": [
    "import pandas as pd\n",
    "import matplotlib.pyplot as plt\n",
    "from sklearn.cluster import DBSCAN\n",
    "from sklearn.cluster import KMeans\n",
    "from sklearn.preprocessing import MinMaxScaler\n",
    "from sklearn.metrics import silhouette_score\n",
    "from sklearn.neighbors import NearestNeighbors\n",
    "from tqdm import tqdm\n",
    "import numpy as np"
   ]
  },
  {
   "cell_type": "markdown",
   "metadata": {},
   "source": [
    "### Import dos Dados"
   ]
  },
  {
   "cell_type": "code",
   "execution_count": 2,
   "metadata": {},
   "outputs": [],
   "source": [
    "df = pd.read_csv('Usuarios-TempoMedioQuantidade.csv', sep=';', engine='python')"
   ]
  },
  {
   "cell_type": "code",
   "execution_count": 3,
   "metadata": {},
   "outputs": [
    {
     "data": {
      "text/plain": [
       "(602, 6)"
      ]
     },
     "execution_count": 3,
     "metadata": {},
     "output_type": "execute_result"
    }
   ],
   "source": [
    "# formato dos dados\n",
    "df.shape"
   ]
  },
  {
   "cell_type": "code",
   "execution_count": 4,
   "metadata": {},
   "outputs": [
    {
     "data": {
      "text/html": [
       "<div>\n",
       "<style scoped>\n",
       "    .dataframe tbody tr th:only-of-type {\n",
       "        vertical-align: middle;\n",
       "    }\n",
       "\n",
       "    .dataframe tbody tr th {\n",
       "        vertical-align: top;\n",
       "    }\n",
       "\n",
       "    .dataframe thead th {\n",
       "        text-align: right;\n",
       "    }\n",
       "</style>\n",
       "<table border=\"1\" class=\"dataframe\">\n",
       "  <thead>\n",
       "    <tr style=\"text-align: right;\">\n",
       "      <th></th>\n",
       "      <th>NomeUsuario</th>\n",
       "      <th>Login</th>\n",
       "      <th>Email</th>\n",
       "      <th>NomeEquipe</th>\n",
       "      <th>Quantidade</th>\n",
       "      <th>TempoMedio</th>\n",
       "    </tr>\n",
       "  </thead>\n",
       "  <tbody>\n",
       "    <tr>\n",
       "      <th>0</th>\n",
       "      <td>dadostab1</td>\n",
       "      <td>dadostab1</td>\n",
       "      <td>dadostab1@dadospesquisa.com.br</td>\n",
       "      <td>Equipe Dados Pesquisa</td>\n",
       "      <td>1498</td>\n",
       "      <td>0</td>\n",
       "    </tr>\n",
       "    <tr>\n",
       "      <th>1</th>\n",
       "      <td>axistab2</td>\n",
       "      <td>axistab2</td>\n",
       "      <td>axistab2@axiscriativa.com.br</td>\n",
       "      <td>Equipe Axis Criativa</td>\n",
       "      <td>461</td>\n",
       "      <td>75</td>\n",
       "    </tr>\n",
       "    <tr>\n",
       "      <th>2</th>\n",
       "      <td>axistab1</td>\n",
       "      <td>axistab1</td>\n",
       "      <td>axistab1@axiscriativa.com.br</td>\n",
       "      <td>Equipe Axis Criativa</td>\n",
       "      <td>445</td>\n",
       "      <td>7</td>\n",
       "    </tr>\n",
       "    <tr>\n",
       "      <th>3</th>\n",
       "      <td>planocdetab1</td>\n",
       "      <td>planocdetab1</td>\n",
       "      <td>planocdetab1@planocde.com.br</td>\n",
       "      <td>Equipe PlanoCDE</td>\n",
       "      <td>423</td>\n",
       "      <td>140</td>\n",
       "    </tr>\n",
       "    <tr>\n",
       "      <th>4</th>\n",
       "      <td>Usuario11</td>\n",
       "      <td>usuario11</td>\n",
       "      <td>usuario11@marketnnova.com</td>\n",
       "      <td>Equipe Marketnnova</td>\n",
       "      <td>351</td>\n",
       "      <td>22</td>\n",
       "    </tr>\n",
       "  </tbody>\n",
       "</table>\n",
       "</div>"
      ],
      "text/plain": [
       "    NomeUsuario         Login                           Email  \\\n",
       "0     dadostab1     dadostab1  dadostab1@dadospesquisa.com.br   \n",
       "1      axistab2      axistab2    axistab2@axiscriativa.com.br   \n",
       "2      axistab1      axistab1    axistab1@axiscriativa.com.br   \n",
       "3  planocdetab1  planocdetab1    planocdetab1@planocde.com.br   \n",
       "4     Usuario11     usuario11       usuario11@marketnnova.com   \n",
       "\n",
       "              NomeEquipe  Quantidade  TempoMedio  \n",
       "0  Equipe Dados Pesquisa        1498           0  \n",
       "1   Equipe Axis Criativa         461          75  \n",
       "2   Equipe Axis Criativa         445           7  \n",
       "3        Equipe PlanoCDE         423         140  \n",
       "4     Equipe Marketnnova         351          22  "
      ]
     },
     "execution_count": 4,
     "metadata": {},
     "output_type": "execute_result"
    }
   ],
   "source": [
    "# primeiras 5 linhas do df\n",
    "df.head()"
   ]
  },
  {
   "cell_type": "code",
   "execution_count": 5,
   "metadata": {},
   "outputs": [
    {
     "data": {
      "text/plain": [
       "NomeUsuario    0\n",
       "Login          0\n",
       "Email          0\n",
       "NomeEquipe     0\n",
       "Quantidade     0\n",
       "TempoMedio     0\n",
       "dtype: int64"
      ]
     },
     "execution_count": 5,
     "metadata": {},
     "output_type": "execute_result"
    }
   ],
   "source": [
    "# verificando se há dados faltantes\n",
    "df.isna().sum()"
   ]
  },
  {
   "cell_type": "markdown",
   "metadata": {},
   "source": [
    "- Não há dados faltantes"
   ]
  },
  {
   "cell_type": "markdown",
   "metadata": {},
   "source": [
    "### Normalizando os Dados"
   ]
  },
  {
   "cell_type": "code",
   "execution_count": 6,
   "metadata": {},
   "outputs": [],
   "source": [
    "# instanciando o objeto\n",
    "scaler = MinMaxScaler()"
   ]
  },
  {
   "cell_type": "code",
   "execution_count": 7,
   "metadata": {},
   "outputs": [
    {
     "data": {
      "text/html": [
       "<div>\n",
       "<style scoped>\n",
       "    .dataframe tbody tr th:only-of-type {\n",
       "        vertical-align: middle;\n",
       "    }\n",
       "\n",
       "    .dataframe tbody tr th {\n",
       "        vertical-align: top;\n",
       "    }\n",
       "\n",
       "    .dataframe thead th {\n",
       "        text-align: right;\n",
       "    }\n",
       "</style>\n",
       "<table border=\"1\" class=\"dataframe\">\n",
       "  <thead>\n",
       "    <tr style=\"text-align: right;\">\n",
       "      <th></th>\n",
       "      <th>Quantidade</th>\n",
       "      <th>TempoMedio</th>\n",
       "    </tr>\n",
       "  </thead>\n",
       "  <tbody>\n",
       "    <tr>\n",
       "      <th>0</th>\n",
       "      <td>1.000000</td>\n",
       "      <td>0.000000</td>\n",
       "    </tr>\n",
       "    <tr>\n",
       "      <th>1</th>\n",
       "      <td>0.307281</td>\n",
       "      <td>0.057559</td>\n",
       "    </tr>\n",
       "    <tr>\n",
       "      <th>2</th>\n",
       "      <td>0.296593</td>\n",
       "      <td>0.005372</td>\n",
       "    </tr>\n",
       "    <tr>\n",
       "      <th>3</th>\n",
       "      <td>0.281897</td>\n",
       "      <td>0.107444</td>\n",
       "    </tr>\n",
       "    <tr>\n",
       "      <th>4</th>\n",
       "      <td>0.233801</td>\n",
       "      <td>0.016884</td>\n",
       "    </tr>\n",
       "  </tbody>\n",
       "</table>\n",
       "</div>"
      ],
      "text/plain": [
       "   Quantidade  TempoMedio\n",
       "0    1.000000    0.000000\n",
       "1    0.307281    0.057559\n",
       "2    0.296593    0.005372\n",
       "3    0.281897    0.107444\n",
       "4    0.233801    0.016884"
      ]
     },
     "execution_count": 7,
     "metadata": {},
     "output_type": "execute_result"
    }
   ],
   "source": [
    "# aplicando a transformação e salvando em outro df\n",
    "df_norm = scaler.fit_transform(df[['Quantidade','TempoMedio']])\n",
    "\n",
    "# voltando para um dataframe\n",
    "df_norm = pd.DataFrame(df_norm, columns=['Quantidade', 'TempoMedio'])\n",
    "\n",
    "# exibindo as 5 primeiras linhas\n",
    "df_norm.head()"
   ]
  },
  {
   "cell_type": "markdown",
   "metadata": {},
   "source": [
    "### Visualizando os Dados"
   ]
  },
  {
   "cell_type": "code",
   "execution_count": 8,
   "metadata": {},
   "outputs": [
    {
     "data": {
      "text/plain": [
       "Text(0.5, 1.0, 'Qtd. vs. Tempo Médio')"
      ]
     },
     "execution_count": 8,
     "metadata": {},
     "output_type": "execute_result"
    },
    {
     "data": {
      "image/png": "[encoded data removed]",
      "text/plain": [
       "<Figure size 432x288 with 1 Axes>"
      ]
     },
     "metadata": {},
     "output_type": "display_data"
    }
   ],
   "source": [
    "plt.scatter(df_norm['Quantidade'], df_norm['TempoMedio'])\n",
    "plt.xlabel('Quantidade')\n",
    "plt.ylabel('Tempo Médio')\n",
    "plt.title('Qtd. vs. Tempo Médio')"
   ]
  },
  {
   "cell_type": "markdown",
   "metadata": {},
   "source": [
    "A análise visual sugere 2 ou 3 clusters, com um possível outlier no ponto (1,0). Vamos entender mais profundamente com a clusterização via **KMeans** e **DBScan**"
   ]
  },
  {
   "cell_type": "markdown",
   "metadata": {},
   "source": [
    "### Clusterizando com KMeans"
   ]
  },
  {
   "cell_type": "code",
   "execution_count": 9,
   "metadata": {},
   "outputs": [
    {
     "name": "stderr",
     "output_type": "stream",
     "text": [
      "100%|██████████████████████████████████████████████████████████████████████████████████| 13/13 [00:01<00:00,  9.40it/s]\n"
     ]
    }
   ],
   "source": [
    "# aux var para entender qtd ideal de clusters\n",
    "scores = []\n",
    "inertias =[]\n",
    "\n",
    "# for para testar qtd ideal de clusters\n",
    "for i in tqdm(range(2,15)):\n",
    "    kmeans = KMeans(n_clusters=i).fit(df_norm)\n",
    "    \n",
    "    # anexa o somatório dos erros quadráticos das instâncias de cada cluster\n",
    "    inertias.append(kmeans.inertia_)\n",
    "    \n",
    "    # anexa o valor do silhouette_score\n",
    "    scores.append(silhouette_score(df_norm.values, kmeans.labels_))"
   ]
  },
  {
   "cell_type": "code",
   "execution_count": 10,
   "metadata": {},
   "outputs": [
    {
     "data": {
      "image/png": "[encoded data removed]",
      "text/plain": [
       "<Figure size 432x288 with 1 Axes>"
      ]
     },
     "metadata": {},
     "output_type": "display_data"
    }
   ],
   "source": [
    "# Visualizando qtd de Clusters pelo Método do Cotovelo\n",
    "\n",
    "plt.figure(1)\n",
    "plt.plot(range(2, 15), inertias)\n",
    "plt.title('O Metodo Elbow')\n",
    "plt.xlabel('No de clusters')\n",
    "plt.ylabel('WSS - within cluster sum of squares')\n",
    "plt.show()"
   ]
  },
  {
   "cell_type": "code",
   "execution_count": 11,
   "metadata": {},
   "outputs": [
    {
     "data": {
      "image/png": "[encoded data removed]",
      "text/plain": [
       "<Figure size 432x288 with 1 Axes>"
      ]
     },
     "metadata": {},
     "output_type": "display_data"
    }
   ],
   "source": [
    "# Visualizando qtd de Clusters pelo K-Means\n",
    "\n",
    "plt.figure(2)\n",
    "plt.bar(range(2,15), scores, align='center', alpha = 0.3)\n",
    "plt.title('Silhouette Score para cada Cluster')\n",
    "plt.xlabel('# Clusters')\n",
    "plt.ylabel('Score calculado')\n",
    "plt.show()"
   ]
  },
  {
   "cell_type": "markdown",
   "metadata": {},
   "source": [
    "Pelo método do cotovelo, não é fácil entender a quantidade ideal de clusters. Pelo método do silhouette Score, aparentemente podemos optar por dois ou três *clusters*. Vamos analisar primeiramente o resultado com 3 *clusters*"
   ]
  },
  {
   "cell_type": "code",
   "execution_count": 12,
   "metadata": {},
   "outputs": [
    {
     "name": "stdout",
     "output_type": "stream",
     "text": [
      "Silhouette Score do Agrupamento pelo KMeans: 0.9635408613727433\n"
     ]
    },
    {
     "data": {
      "image/png": "[encoded data removed]",
      "text/plain": [
       "<Figure size 432x288 with 1 Axes>"
      ]
     },
     "metadata": {},
     "output_type": "display_data"
    }
   ],
   "source": [
    "kmeans = KMeans(n_clusters=3).fit(df_norm)\n",
    "plt.scatter(df_norm['Quantidade'], df_norm['TempoMedio'], c=kmeans.labels_)\n",
    "plt.xlabel('Quantidade')\n",
    "plt.ylabel('Tempo Médio')\n",
    "plt.title('Clusterização pelo KMeans')\n",
    "\n",
    "print('Silhouette Score do Agrupamento pelo KMeans: {}'.format(silhouette_score(df_norm, kmeans.labels_)))"
   ]
  },
  {
   "cell_type": "markdown",
   "metadata": {},
   "source": [
    "Aqui vemos que foi criado um cluster apenas para um único ponto, que aparenta ser um *outlier*. Se fizermos a clusterização com 2 *clusters*:"
   ]
  },
  {
   "cell_type": "code",
   "execution_count": 13,
   "metadata": {},
   "outputs": [
    {
     "name": "stdout",
     "output_type": "stream",
     "text": [
      "Silhouette Score do Agrupamento pelo KMeans: 0.9638828277346381\n"
     ]
    },
    {
     "data": {
      "image/png": "[encoded data removed]",
      "text/plain": [
       "<Figure size 432x288 with 1 Axes>"
      ]
     },
     "metadata": {},
     "output_type": "display_data"
    }
   ],
   "source": [
    "kmeans = KMeans(n_clusters=2).fit(df_norm)\n",
    "plt.scatter(df_norm['Quantidade'], df_norm['TempoMedio'], c=kmeans.labels_)\n",
    "plt.xlabel('Quantidade')\n",
    "plt.ylabel('Tempo Médio')\n",
    "plt.title('Clusterização pelo KMeans')\n",
    "\n",
    "print('Silhouette Score do Agrupamento pelo KMeans: {}'.format(silhouette_score(df_norm, kmeans.labels_)))"
   ]
  },
  {
   "cell_type": "markdown",
   "metadata": {},
   "source": [
    "Aqui vemos que foram criados 2 *clusters*, mas o ponto *outlier* foi agrupado junto com os demais. Esta abordagem também não parece ser a ideal. Vamos analisar o agrupamento com o DBScan."
   ]
  },
  {
   "cell_type": "markdown",
   "metadata": {},
   "source": [
    " "
   ]
  },
  {
   "cell_type": "markdown",
   "metadata": {},
   "source": [
    "### Clusterizando com DBScan"
   ]
  },
  {
   "cell_type": "code",
   "execution_count": 14,
   "metadata": {},
   "outputs": [],
   "source": [
    "#Selecionando o melhor valor para o eps\n",
    "neigh = NearestNeighbors(n_neighbors=2)\n",
    "nbrs = neigh.fit(df_norm)\n",
    "distances, indices = nbrs.kneighbors(df_norm)"
   ]
  },
  {
   "cell_type": "code",
   "execution_count": 15,
   "metadata": {},
   "outputs": [
    {
     "name": "stdout",
     "output_type": "stream",
     "text": [
      "Matriz das distâncias: \n",
      "[[0.         0.03934512]\n",
      " [0.         0.05327048]\n",
      " [0.         0.05327048]\n",
      " [0.         0.0559719 ]\n",
      " [0.         0.69510603]]\n"
     ]
    },
    {
     "data": {
      "image/png": "[encoded data removed]",
      "text/plain": [
       "<Figure size 432x288 with 1 Axes>"
      ]
     },
     "metadata": {},
     "output_type": "display_data"
    }
   ],
   "source": [
    "distances = np.sort(distances, axis=0)\n",
    "\n",
    "print('Matriz das distâncias: ')\n",
    "print(distances[-5:])\n",
    "\n",
    "\n",
    "distances = distances[:,1]\n",
    "plt.plot(distances)\n",
    "plt.title('View das distâncias')\n",
    "plt.show()"
   ]
  },
  {
   "cell_type": "markdown",
   "metadata": {},
   "source": [
    "A análise acima pelo gráfico não é simples, portanto optamos por imprimir também os dados da matriz. Com isto, optamos por um espilon de 0.1."
   ]
  },
  {
   "cell_type": "code",
   "execution_count": 16,
   "metadata": {},
   "outputs": [
    {
     "name": "stderr",
     "output_type": "stream",
     "text": [
      "100%|████████████████████████████████████████████████████████████████████████████████████| 9/9 [00:00<00:00, 42.45it/s]\n"
     ]
    }
   ],
   "source": [
    "# aux var para entender a qtd mínima de amostras\n",
    "scores = []\n",
    "\n",
    "# for para testar qtd ideal de amostras\n",
    "for i in tqdm(range(2,11)):\n",
    "    db = DBSCAN(eps=0.1, min_samples=i).fit(df_norm)\n",
    "    \n",
    "    # anexa o valor do silhouette_score\n",
    "    scores.append(silhouette_score(df_norm, db.labels_))"
   ]
  },
  {
   "cell_type": "code",
   "execution_count": 17,
   "metadata": {},
   "outputs": [
    {
     "data": {
      "image/png": "[encoded data removed]",
      "text/plain": [
       "<Figure size 432x288 with 1 Axes>"
      ]
     },
     "metadata": {},
     "output_type": "display_data"
    }
   ],
   "source": [
    "# Visualizando o Silhouette Score pela quantidade de amostras\n",
    "\n",
    "plt.figure(3)\n",
    "plt.bar(range(2,11), scores, align='center', alpha = 0.3)\n",
    "plt.title('Silhouette Score para min_samples')\n",
    "plt.xlabel('# min_samples')\n",
    "plt.ylabel('Score calculado')\n",
    "plt.show()"
   ]
  },
  {
   "cell_type": "markdown",
   "metadata": {},
   "source": [
    "Temos aqui que a quantidade de pontos para min_samples pode ser qualquer valor entre 2 e 4 sem prejuízo. Vamos escolher 3 por conveniência."
   ]
  },
  {
   "cell_type": "code",
   "execution_count": 18,
   "metadata": {},
   "outputs": [
    {
     "name": "stdout",
     "output_type": "stream",
     "text": [
      "Silhouette Score do Agrupamento: 0.9635408613727433\n"
     ]
    },
    {
     "data": {
      "image/png": "[encoded data removed]",
      "text/plain": [
       "<Figure size 432x288 with 1 Axes>"
      ]
     },
     "metadata": {},
     "output_type": "display_data"
    }
   ],
   "source": [
    "db = DBSCAN(eps=0.1, min_samples=3).fit(df_norm)\n",
    "plt.scatter(df_norm['Quantidade'], df_norm['TempoMedio'], c=db.labels_)\n",
    "plt.xlabel('Quantidade')\n",
    "plt.ylabel('Tempo Médio')\n",
    "plt.title('Clusterização pelo DBScan')\n",
    "\n",
    "print('Silhouette Score do Agrupamento: {}'.format(silhouette_score(df_norm, db.labels_)))"
   ]
  },
  {
   "cell_type": "markdown",
   "metadata": {},
   "source": [
    " "
   ]
  },
  {
   "cell_type": "markdown",
   "metadata": {},
   "source": [
    " "
   ]
  },
  {
   "cell_type": "markdown",
   "metadata": {},
   "source": [
    "## Respostas do Exercício"
   ]
  },
  {
   "cell_type": "markdown",
   "metadata": {},
   "source": [
    "#### a) O que representam os clusters gerados?"
   ]
  },
  {
   "cell_type": "markdown",
   "metadata": {},
   "source": [
    "Os clusters representam grupos de características com características similares. No caso em análise, dois fatores foram considerados:\n",
    "- Quantidade\n",
    "- Tempo Médio"
   ]
  },
  {
   "cell_type": "markdown",
   "metadata": {},
   "source": [
    "#### b) Qual a melhor quantidade de clusters?"
   ]
  },
  {
   "cell_type": "markdown",
   "metadata": {},
   "source": [
    "A melhor quantidade de clusters é **dois**. Este resultado foi obtido pelo método do KMeans e também pelo DBScan"
   ]
  },
  {
   "cell_type": "markdown",
   "metadata": {},
   "source": [
    "#### c) Qual a melhor técnica (KMeans ou DBScan) a ser utilizada nesta clusterização?"
   ]
  },
  {
   "cell_type": "markdown",
   "metadata": {},
   "source": [
    "A melhor técnica para este caso é o **DBScan**. O caso analisado tem um *outlier* claro, que não é bem tratado pelo KMeans. O DBScan, por sua característica, conseguiu identificar que tratava-se de um ruído, e portanto isolou o ponto."
   ]
  },
  {
   "cell_type": "markdown",
   "metadata": {},
   "source": [
    " "
   ]
  }
 ],
 "metadata": {
  "kernelspec": {
   "display_name": "Python 3",
   "language": "python",
   "name": "python3"
  },
  "language_info": {
   "codemirror_mode": {
    "name": "ipython",
    "version": 3
   },
   "file_extension": ".py",
   "mimetype": "text/x-python",
   "name": "python",
   "nbconvert_exporter": "python",
   "pygments_lexer": "ipython3",
   "version": "3.6.5"
  }
 },
 "nbformat": 4,
 "nbformat_minor": 2
}
